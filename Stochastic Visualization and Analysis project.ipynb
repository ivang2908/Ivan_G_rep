{
 "cells": [
  {
   "cell_type": "markdown",
   "id": "dce7a005-6ea5-4b36-b4f6-3f73866cda57",
   "metadata": {},
   "source": [
    "***Исследовательская работа: Анализ и оптимизаиця алгоритмов на Python*** "
   ]
  },
  {
   "cell_type": "markdown",
   "id": "c5ff9ea8-f3a3-4ec9-a6b4-16cec365af53",
   "metadata": {},
   "source": [
    "**1. Введение**"
   ]
  },
  {
   "cell_type": "markdown",
   "id": "28d40baf-d9b1-4c68-a959-cf933927e231",
   "metadata": {},
   "source": [
    "В данной работе рассматривается задача симуляции стоахастических дифференциальных уравнений."
   ]
  },
  {
   "cell_type": "markdown",
   "id": "efb8c566-4c17-494f-b97b-d4a1909e92cd",
   "metadata": {},
   "source": [
    "**2. Постановка задачи**"
   ]
  },
  {
   "cell_type": "markdown",
   "id": "344eaa3e-0836-42a3-93af-5844bafb3146",
   "metadata": {},
   "source": [
    "Задача заключается в том, чтобы перенести существующий код MATLAB, который моделирует некоторые стохастические процессы с помощью метода KDE (оценки плотности ядра), в Python."
   ]
  },
  {
   "cell_type": "markdown",
   "id": "d1483f5d-9e17-4692-86c3-7a26bf0c2b0d",
   "metadata": {},
   "source": [
    "**3. Описание алгоритма на Python**"
   ]
  },
  {
   "cell_type": "markdown",
   "id": "029de7c9-7f6c-4f8b-a28a-3d9c0fa8e648",
   "metadata": {},
   "source": [
    "- Функция *kde*, которая выполняет оценку плотности ядра (KDE) на основе предоставленных данных. Она предоставляет основу для генерации новых данных, соответствующих исходному распределению."
   ]
  },
  {
   "cell_type": "code",
   "execution_count": 1,
   "id": "1b2c1033-477f-4d6e-965b-eb1b846ec3a2",
   "metadata": {},
   "outputs": [],
   "source": [
    "def kde(data, probability_fcn=\"cdf\", bandwidth=None):\n",
    "    if bandwidth is None:\n",
    "        bandwidth = 1.0  # Default bandwidth\n",
    "    kde = KernelDensity(kernel='gaussian', bandwidth=bandwidth).fit(data[:, None])\n",
    "    x = np.linspace(min(data), max(data), 1000)\n",
    "    log_dens = kde.score_samples(x[:, None])\n",
    "    density = np.exp(log_dens)\n",
    "    if probability_fcn == \"cdf\":\n",
    "        cdf = np.cumsum(density)\n",
    "        cdf /= cdf[-1]\n",
    "        return cdf, x, bandwidth\n",
    "    else:\n",
    "        return density, x, bandwidth\n"
   ]
  },
  {
   "cell_type": "markdown",
   "id": "f43f88ac-88c4-4809-b4cc-db71e62dff9f",
   "metadata": {},
   "source": [
    "- Определение параметров:"
   ]
  },
  {
   "cell_type": "code",
   "execution_count": null,
   "id": "ee4476b8-0d9b-4bf7-b78c-66bc15f3f1c8",
   "metadata": {},
   "outputs": [],
   "source": [
    "if bandwidth is None:\n",
    "    bandwidth = 1.0  # Default bandwidth"
   ]
  },
  {
   "cell_type": "markdown",
   "id": "b4f9e6f2-9a58-4dd6-8ac1-330f1b570104",
   "metadata": {},
   "source": [
    "Здесь мы устанавливаем значение по умолчанию для ширины ядра *bandwith*. Если в функцию не передано значение ширирины ядра, используется значение 1.0. Ширина ядра влияет на гладкость оценки: меньшие значения приводят к более 'заострённой' оценке, а большие - к более 'сглаженной'."
   ]
  },
  {
   "cell_type": "markdown",
   "id": "19a3d5fd-e62f-4f78-a9ce-82bcec72c423",
   "metadata": {},
   "source": [
    "- Инициализация модели KDE:"
   ]
  },
  {
   "cell_type": "code",
   "execution_count": null,
   "id": "a6ea5b3b-723d-4ac0-a96c-a375a3d2e0ee",
   "metadata": {},
   "outputs": [],
   "source": [
    "kde = KernelDensity(kernel='gaussian', bandwidth=bandwidth).fit(data[:, None])\n"
   ]
  },
  {
   "cell_type": "markdown",
   "id": "850c84d6-f6a3-482b-9880-53d5c99572dc",
   "metadata": {},
   "source": [
    "Здесь создаётся объект *KernelDensity* с гауссовским ядром и заданной шириной ядра. Метод *.fit* используется для тренировки модели на данных. Данные преобразуются в столбец ('data[:, None]'), что требуется для работы с библиотекой *sklearn*."
   ]
  },
  {
   "cell_type": "markdown",
   "id": "8e334364-6df6-4d43-bc7e-eaea71784ad6",
   "metadata": {},
   "source": [
    "- Вычисление логарифмической плотности и плотности:"
   ]
  },
  {
   "cell_type": "code",
   "execution_count": null,
   "id": "cd327d64-caa2-4f8d-8e10-c376466864f3",
   "metadata": {},
   "outputs": [],
   "source": [
    "x = np.linspace(min(data), max(data), 1000)\n",
    "log_dens = kde.score_samples(x[:, None])\n",
    "density = np.exp(log_dens)\n"
   ]
  },
  {
   "cell_type": "markdown",
   "id": "a3e3ab6f-3f3b-4d8c-9b1e-5213ed4b417f",
   "metadata": {},
   "source": [
    "Создаётся массив *x* с 1000 точками, равномерно распределёнными между минимальными и максимальными значениями данных. *log_dens* содержит логарифмические значения плотности для этих точек. Экспоненцирование *log_dens* даёт *density*, непосредственную оценку плотности на этих точках."
   ]
  },
  {
   "cell_type": "markdown",
   "id": "d46d33d9-5d05-41c7-a967-d579ead92aa1",
   "metadata": {},
   "source": [
    "- Возвращение CDF или плотности:"
   ]
  },
  {
   "cell_type": "code",
   "execution_count": null,
   "id": "ac8354b4-cae0-4556-8515-6e9c36cb2669",
   "metadata": {},
   "outputs": [],
   "source": [
    "if probability_fcn == \"cdf\":\n",
    "    cdf = np.cumsum(density)\n",
    "    cdf /= cdf[-1]\n",
    "    return cdf, x, bandwidth\n",
    "else:\n",
    "    return density, x, bandwidth\n"
   ]
  },
  {
   "cell_type": "markdown",
   "id": "182ccde7-2716-4174-85aa-e9ec5c14d485",
   "metadata": {},
   "source": [
    "Если функция вызывается с *probability_fcn=\"cdf\"*, то вычисляется сумма последовательных результатов плотностей (*cdf*), которая нормализуется, чтобы максимальное значение было равно 1. Это превращает плотность в функцию распределения вероятностей. Если же требуется вернуть саму плотность, возвращается массив *density* вместе с соответствующими значениями *x* и используемой шириной ядра *bandwith*."
   ]
  },
  {
   "cell_type": "markdown",
   "id": "fa1fd2c8-7f6a-4334-b8c9-627d23b00959",
   "metadata": {},
   "source": [
    "- Функция *randkde* предназначена для генерации случайных выборок из распределения, плотность которого оценивается методом ядерной оценки плотности (KDE). Основная задача этой функции - использовать полученную плотность распределения для создания новых данных, которые статистически соответствуют исходному набору данных."
   ]
  },
  {
   "cell_type": "code",
   "execution_count": null,
   "id": "d45ca93e-ebdd-48d0-9cf8-4a40bd53d9cc",
   "metadata": {},
   "outputs": [],
   "source": [
    "def randkde(data, dim):\n",
    "    # Remove infinities and large values from the data\n",
    "    data = np.nan_to_num(data, nan=0.0, posinf=np.finfo(np.float64).max, neginf=np.finfo(np.float64).min)\n",
    "    \n",
    "    # Perform KDE and get the CDF\n",
    "    F, x, bw = kde(data, probability_fcn=\"cdf\")\n",
    "    \n",
    "    # Ensure the CDF starts at 0 and ends at 1\n",
    "    F[0] = 0\n",
    "    F[-1] = 1\n",
    "    \n",
    "    # Create an interpolated inverse CDF function\n",
    "    inv_cdf = interp1d(F, x, kind='linear', fill_value=\"extrapolate\")\n",
    "    \n",
    "    # Generate random samples\n",
    "    total_elements = np.prod(dim)\n",
    "    uniform_random_samples = np.random.rand(total_elements)\n",
    "    y = inv_cdf(uniform_random_samples).reshape(dim)\n",
    "    \n",
    "    return y, F, x, bw\n"
   ]
  },
  {
   "cell_type": "markdown",
   "id": "39e52bef-8498-4921-95c0-26bc22ea7e1c",
   "metadata": {},
   "source": [
    "- Обработка исключений в данных:"
   ]
  },
  {
   "cell_type": "code",
   "execution_count": null,
   "id": "75860c6b-5de2-429f-a01e-3bf235528278",
   "metadata": {},
   "outputs": [],
   "source": [
    "data = np.nan_to_num(data, nan=0.0, posinf=np.finfo(np.float64).max, neginf=np.finfo(np.float64).min)\n"
   ]
  },
  {
   "cell_type": "markdown",
   "id": "e063d685-f208-4bb8-8b69-f77bd9714877",
   "metadata": {},
   "source": [
    "Эта строка предназанчена для замены всех *NaN* значений на 0.0 положительных бесконечностей на максимально возможное значение типа *float64* и отрицательных бесконечностей на минимально возможное значение типа *float64*. Это предовращает возможные ошибки в вычислениях, связанные с неопределёнными и экстремальными значениями."
   ]
  },
  {
   "cell_type": "markdown",
   "id": "340a9eca-66ef-4fca-90b0-599d5738e136",
   "metadata": {},
   "source": [
    "- Выполнение KDE и получение CDF:"
   ]
  },
  {
   "cell_type": "code",
   "execution_count": null,
   "id": "0ab942a7-68c2-4604-9e0e-f9d67d297c08",
   "metadata": {},
   "outputs": [],
   "source": [
    "F, x, bw = kde(data, probability_fcn=\"cdf\")\n"
   ]
  },
  {
   "cell_type": "markdown",
   "id": "acd22052-33ec-494d-91ef-4fd678d1fc47",
   "metadata": {},
   "source": [
    "Здесь функция *kde* вызывается с параметром *probability_fcn=\"cdf\"*, что указывает на необходимость возвращать функцию распределения (CDF), основанную на ядерной оценке плотности данных. *F* содержит значения CDF, *x* - соответствующие значения переменной, а *bw* - используемую ширину ядра."
   ]
  },
  {
   "cell_type": "markdown",
   "id": "4e1da762-e267-488b-9dce-735c75066820",
   "metadata": {},
   "source": [
    "- Корректировка CDF:"
   ]
  },
  {
   "cell_type": "code",
   "execution_count": null,
   "id": "dbf1f1d3-2a77-4ee5-98c6-76307ab50ca2",
   "metadata": {},
   "outputs": [],
   "source": [
    "F[0] = 0\n",
    "F[-1] = 1\n"
   ]
  },
  {
   "cell_type": "markdown",
   "id": "d66cef92-a63c-44c0-abce-e0f8ecb11d63",
   "metadata": {},
   "source": [
    "Устанавливается точное начало и конец в CDF в 0 и 1, что гарантирует правильное распределение вероятностей."
   ]
  },
  {
   "cell_type": "markdown",
   "id": "f47bd835-8c6e-4796-9e3e-acb34603d089",
   "metadata": {},
   "source": [
    "- Интерполяция для обратной функции CDF:"
   ]
  },
  {
   "cell_type": "code",
   "execution_count": null,
   "id": "11962ef9-3748-49a9-83e9-34227bf463e3",
   "metadata": {},
   "outputs": [],
   "source": [
    "inv_cdf = interp1d(F, x, kind='linear', fill_value=\"extrapolate\")\n"
   ]
  },
  {
   "cell_type": "markdown",
   "id": "053f8d2f-ec33-4b0c-8041-a8628d99822c",
   "metadata": {},
   "source": [
    "Создаётся функция *inv_cdf*, которая явялется интерполированной обратной функцией CDF. Это позволяет генерировать новые значения данных, соответствующие оригинальному распределению."
   ]
  },
  {
   "cell_type": "markdown",
   "id": "972e977f-4971-464a-b62f-67f18a7ffaa6",
   "metadata": {},
   "source": [
    "- Генерация случайных выборок:"
   ]
  },
  {
   "cell_type": "code",
   "execution_count": null,
   "id": "b984b330-cbea-405c-aa6d-4bb3d650c03f",
   "metadata": {},
   "outputs": [],
   "source": [
    "uniform_random_samples = np.random.rand(total_elements)\n",
    "y = inv_cdf(uniform_random_samples).reshape(dim)\n"
   ]
  },
  {
   "cell_type": "markdown",
   "id": "4b388f82-18e4-44b5-ae83-7c7f8df1f4da",
   "metadata": {},
   "source": [
    "Генерируется равномерно распределённые случайные числа, которые затем преобразуются в соответствии с обратной функцией CDF для получения новых данных, распределённых согласно исходному набору. Результат приводится к нужным размерностям *dim*."
   ]
  },
  {
   "cell_type": "markdown",
   "id": "01a86737-9ae1-41f6-9e4e-891f9af2f094",
   "metadata": {},
   "source": [
    "- функция *filter_infinite_values*, которая служит важной задачей предварительной обработки данных, удаляя или заменяя аномальные значения, такие как бесконечности и *NaN*."
   ]
  },
  {
   "cell_type": "code",
   "execution_count": null,
   "id": "352ab018-0bf0-48ee-9fa9-8c7a6fd4ebec",
   "metadata": {},
   "outputs": [],
   "source": [
    "def filter_infinite_values(data):\n",
    "    return np.nan_to_num(data, nan=0.0, posinf=np.finfo(np.float64).max, neginf=-np.finfo(np.float64).max)\n"
   ]
  },
  {
   "cell_type": "markdown",
   "id": "fc3b8d97-4cd9-4ed4-87c9-3514441adf72",
   "metadata": {},
   "source": [
    "Функция *filter_infinite_values* предназначена для очистки данных, устраняя возможные проблемы, которые могут возникнуть из-за наличия *NaN* (не числа), положительных бесконечностей (*posinf*), и отрицательных бесконечностей (*neginf*). Эти значения могут вызвать ошибки или привести к неверным результатам во время математических операций, особенно при использовании функций, которые не могут обрабатывать эти специфические случаи."
   ]
  },
  {
   "cell_type": "markdown",
   "id": "f1760136-8774-45a7-9130-988907a92be7",
   "metadata": {},
   "source": [
    "- Функция *np.nan_to_num*: "
   ]
  },
  {
   "cell_type": "markdown",
   "id": "1a1e6b39-22c0-4696-89e7-f9d7a3798415",
   "metadata": {},
   "source": [
    "Эта функция из NumPy преобразует *NaN* в определенные числовые значения и заменяет бесконечности на максимально допустимые числа, которые может представить тип данных *float64*."
   ]
  },
  {
   "cell_type": "markdown",
   "id": "d73f2327-855e-4deb-9e20-219568498c13",
   "metadata": {},
   "source": [
    "- Функция *clamp_values* ограничивает значения в массиве data заданными минимальным (*min_value*) и максимальным (*max_value*) порогами. Это обеспечивает, что все значения в массиве находятся в заданном диапазоне."
   ]
  },
  {
   "cell_type": "code",
   "execution_count": null,
   "id": "acf90d76-808e-46ec-bc1f-5b9dcf32b681",
   "metadata": {},
   "outputs": [],
   "source": [
    "def clamp_values(data, min_value, max_value):\n",
    "    return np.clip(data, min_value, max_value)\n"
   ]
  },
  {
   "cell_type": "markdown",
   "id": "ec95eac3-ffa6-4749-8bff-6e928a6bcfcc",
   "metadata": {},
   "source": [
    "*np.clip* является функцией из библиотеки NumPy, которая \"обрезает\" значения массива, чтобы они находились в указанном интервале."
   ]
  },
  {
   "cell_type": "markdown",
   "id": "14c9000e-4c83-4f45-bb4d-c60a90687ef0",
   "metadata": {},
   "source": [
    "- Функция *safe_arctanh* обеспечивает безопасное выполнение гиперболической арктангенс функции *arctanh*, которая не определена для входных значений точно равных -1 или 1 и приводит к бесконечности при их приближении."
   ]
  },
  {
   "cell_type": "code",
   "execution_count": null,
   "id": "a32a7b19-62f5-4d35-9f1f-258f18a732d7",
   "metadata": {},
   "outputs": [],
   "source": [
    "def safe_arctanh(x):\n",
    "    epsilon = 1e-10\n",
    "    x = np.clip(x, -1 + epsilon, 1 - epsilon)\n",
    "    return np.arctanh(x)\n"
   ]
  },
  {
   "cell_type": "markdown",
   "id": "04528dd4-1e4d-4088-a683-fa1d2fef66d9",
   "metadata": {},
   "source": [
    "Значения *x* ограничиваются в диапазоне от -1 + *epsilon* до 1 - *epsilon*, где *epsilon* — очень маленькое положительное число (здесь 1e-10)."
   ]
  },
  {
   "cell_type": "markdown",
   "id": "ba5afbf7-4919-42a8-b240-7ea3da2b43c2",
   "metadata": {},
   "source": [
    "После ограничения диапазона функция *np.arctanh* вызывается безопасно, так как входные данные находятся в диапазоне, где arctanh определен и возвращает конечные значения."
   ]
  },
  {
   "cell_type": "markdown",
   "id": "afe9a0d3-deed-48c7-90a0-5bc04c0bd596",
   "metadata": {},
   "source": [
    "- Установка параметров:"
   ]
  },
  {
   "cell_type": "code",
   "execution_count": 8,
   "id": "c0f1497f-19e4-4886-acee-94256c87608a",
   "metadata": {},
   "outputs": [],
   "source": [
    "dv = 3\n",
    "dc = 6\n",
    "sigma = 0.75\n",
    "\n",
    "N = int(1e6)\n",
    "mu = 2 / sigma ** 2\n",
    "n = dc - 1\n",
    "m = dv - 1\n"
   ]
  },
  {
   "cell_type": "markdown",
   "id": "2abc1c1f-4f4f-4ed5-8f65-8eb1c22abfae",
   "metadata": {},
   "source": [
    "- Имена файлов и потоки данных:"
   ]
  },
  {
   "cell_type": "code",
   "execution_count": null,
   "id": "9bbf83d3-b88b-4317-adba-49448c6bedb9",
   "metadata": {},
   "outputs": [],
   "source": [
    "fname_pref = f'dv={dv}dc={dc}s={sigma}'\n",
    "CNfile_path = f'{fname_pref}CNhist.csv'\n",
    "VNfile_path = f'{fname_pref}VNhist.csv'\n",
    "CNfile = open(CNfile_path, 'w')\n",
    "VNfile = open(VNfile_path, 'w')\n"
   ]
  },
  {
   "cell_type": "markdown",
   "id": "5140abdd-63c3-4b0f-8d9b-9cf46bd9da01",
   "metadata": {},
   "source": [
    "*fname_pref*: Строка, формирующая префикс имени файла на основе параметров dv, dc и sigma.\n",
    "*CNfile_path, VNfile_path*: Пути к файлам, куда будут записываться результаты. Имена файлов включают параметры для удобства идентификации.\n",
    "*CNfile, VNfile*: Открытие файлов для записи. Файлы открываются в режиме записи ('w'), что означает, что если файл с таким именем уже существует, он будет перезаписан."
   ]
  },
  {
   "cell_type": "markdown",
   "id": "7b12e692-a5a6-4ae0-8c91-91c07261be1e",
   "metadata": {},
   "source": [
    "- Подготовка к визуализации: "
   ]
  },
  {
   "cell_type": "code",
   "execution_count": null,
   "id": "a405a09e-29d3-4cd7-99a1-9c06509e8e1a",
   "metadata": {},
   "outputs": [],
   "source": [
    "fig, (ax1, ax2) = plt.subplots(2, 1, figsize=(10, 12))\n"
   ]
  },
  {
   "cell_type": "markdown",
   "id": "7c043db6-b70c-46d3-b218-4086579dd2b4",
   "metadata": {},
   "source": [
    "*fig, (ax1, ax2)*: Создание фигуры с двумя подграфиками (ax1 и ax2). Размер фигуры задается как 10x12 дюймов.\n"
   ]
  },
  {
   "cell_type": "markdown",
   "id": "3c5f9ae1-9e6b-49c9-8eb6-4b2656f09485",
   "metadata": {},
   "source": [
    "- Параметры для циклов итераций: "
   ]
  },
  {
   "cell_type": "code",
   "execution_count": null,
   "id": "dd8c2cd4-49d4-4a05-8e00-137993019217",
   "metadata": {},
   "outputs": [],
   "source": [
    "Lmax = 30\n",
    "Lplot = np.arange(1, Lmax + 1)\n",
    "numLastPlots = 1\n"
   ]
  },
  {
   "cell_type": "markdown",
   "id": "2fc42620-edb3-4841-9000-96cdc5ebe862",
   "metadata": {},
   "source": [
    "- Генерация начальных значений: "
   ]
  },
  {
   "cell_type": "code",
   "execution_count": null,
   "id": "29055505-518e-4d40-869a-f424283839d5",
   "metadata": {},
   "outputs": [],
   "source": [
    "VmNn = np.random.normal(mu, np.sqrt(2 * mu), (m, N, n))\n"
   ]
  },
  {
   "cell_type": "markdown",
   "id": "86bd89c0-9324-4f6e-a18e-c3d588d98948",
   "metadata": {},
   "source": [
    "Здесь *VmNn* инициализируется как трехмерный массив, содержащий значения, сгенерированные из нормального распределения с параметрами среднего (*mu*) и стандартного отклонения (*sqrt(2 * mu)*). Размер массива задается тремя параметрами: *m, N, n*."
   ]
  },
  {
   "cell_type": "markdown",
   "id": "1151dd1e-8cef-4e14-963e-42ec1a5b7c0d",
   "metadata": {},
   "source": [
    "- Фильтрация аномальных значений:"
   ]
  },
  {
   "cell_type": "code",
   "execution_count": null,
   "id": "aa219265-4524-4134-afbe-0d2576904d79",
   "metadata": {},
   "outputs": [],
   "source": [
    "VmNn = filter_infinite_values(VmNn)\n",
    "VmNn = clamp_values(VmNn, -1000, 1000)\n"
   ]
  },
  {
   "cell_type": "markdown",
   "id": "5f05d68e-1305-42f6-951c-838f5400daa2",
   "metadata": {},
   "source": [
    "*filter_infinite_values(VmNn)*: Применяет функцию для очистки данных от бесконечных и нечисловых значений (NaN).  \n",
    "*clamp_values(VmNn, -1000, 1000)*: Ограничивает значения в VmNn диапазоном от -1000 до 1000, чтобы предотвратить чрезмерно большие или малые значения, которые могут повлиять на стабильность вычислений"
   ]
  },
  {
   "cell_type": "markdown",
   "id": "3afdbef8-6c78-4ef5-b6a0-a3e1eab8d0e9",
   "metadata": {},
   "source": [
    "- Инициализация буферных массивов:"
   ]
  },
  {
   "cell_type": "code",
   "execution_count": null,
   "id": "eb3727c4-32bb-42aa-b078-4ae67e1c1006",
   "metadata": {},
   "outputs": [],
   "source": [
    "Uarx = np.zeros((numLastPlots, N))\n",
    "Varx = np.zeros((numLastPlots, N))\n",
    "for i in range(numLastPlots):\n",
    "    Varx[i, :] = VmNn[0, :, 0]\n"
   ]
  },
  {
   "cell_type": "markdown",
   "id": "6b085db2-962b-4a7c-a07d-bea2e9ee5abe",
   "metadata": {},
   "source": [
    "*Uarx* и *Varx* инициализируются как массивы с нулями. Их размеры зависят от *numLastPlots* и *N*, что позволяет хранить промежуточные или конечные результаты для небольшого количества последних графиков или анализов.  \n",
    "Цикл копирует первый слой данных из *VmNn* в *Varx*, что может использоваться для начальных условий или специфических вычислений в дальнейшем."
   ]
  },
  {
   "cell_type": "markdown",
   "id": "84c30165-b1e6-4e00-9c34-0f420f110928",
   "metadata": {},
   "source": [
    "- Запуск таймера:"
   ]
  },
  {
   "cell_type": "code",
   "execution_count": null,
   "id": "8533674e-9224-4090-8af1-3620e425d65f",
   "metadata": {},
   "outputs": [],
   "source": [
    "tstart = datetime.now()\n",
    "tcurr = datetime.now()"
   ]
  },
  {
   "cell_type": "markdown",
   "id": "02912b50-a7cb-443c-a967-0c6a3d6a39d8",
   "metadata": {},
   "source": [
    "- Основной цикл обработки:"
   ]
  },
  {
   "cell_type": "code",
   "execution_count": null,
   "id": "a39198e2-2d91-4d6f-900e-1fed7fae3f60",
   "metadata": {},
   "outputs": [],
   "source": [
    "for L in range(1, Lmax + 1):\n",
    "    if L % 10 == 0:\n",
    "        print(L, datetime.now() - tcurr, datetime.now() - tstart)\n",
    "        tcurr = datetime.now()\n",
    "\n",
    "    UmN = 2 * safe_arctanh(np.prod(np.tanh(VmNn / 2), axis=2))\n",
    "    UmN = filter_infinite_values(UmN)\n",
    "    UmN = clamp_values(UmN, -1000, 1000)\n",
    "    UmNV = np.minimum(UmN, 1000)\n",
    "    V = np.sum(UmN, axis=0) + np.random.normal(mu, np.sqrt(2 * mu), N)\n",
    "    V = filter_infinite_values(V)\n",
    "    V = clamp_values(V, -1000, 1000)\n",
    "\n",
    "    for i in range(numLastPlots - 1):\n",
    "        Varx[i, :] = Varx[i + 1, :]\n",
    "        Uarx[i, :] = Uarx[i + 1, :]\n",
    "    Varx[numLastPlots - 1, :] = V\n",
    "    Uarx[numLastPlots - 1, :] = UmN[0, :]\n",
    "\n",
    "    VmNn = randkde(V, (m, N, n))[0]\n",
    "    VmNn = filter_infinite_values(VmNn)\n",
    "    VmNn = clamp_values(VmNn, -1000, 1000)\n",
    "\n",
    "    converged = np.sum(V < 0) <= 0\n"
   ]
  },
  {
   "cell_type": "markdown",
   "id": "8650720a-e9f0-4f28-9c09-d45bf8bcf95c",
   "metadata": {},
   "source": [
    "- Цикл итераций:"
   ]
  },
  {
   "cell_type": "markdown",
   "id": "660a81a9-1a8b-410b-807e-2e1c8238eb21",
   "metadata": {},
   "source": [
    "*for L in range(1, Lmax + 1)*: Итерации от 1 до *Lmax* включительно, где каждая итерация соответствует одному уровню или шагу обработки данных."
   ]
  },
  {
   "cell_type": "markdown",
   "id": "fc3033db-b778-4834-be1d-44d0f55ee5a0",
   "metadata": {},
   "source": [
    "- Мониторинг выполнения:"
   ]
  },
  {
   "cell_type": "markdown",
   "id": "3ec8e6da-9bf4-40fd-bfdf-d08d1df7c39c",
   "metadata": {},
   "source": [
    "Вывод текущего шага и времени, затраченного с начала выполнения и с предыдущего вывода, если шаг кратен 10."
   ]
  },
  {
   "cell_type": "markdown",
   "id": "853b1aab-4a43-4d0e-bf36-0c6c8c2f80b2",
   "metadata": {},
   "source": [
    "- Расчёт преобразования значений: "
   ]
  },
  {
   "cell_type": "markdown",
   "id": "9cdfc401-593c-45c2-a22f-7a93f6d48516",
   "metadata": {},
   "source": [
    "*UmN = 2 * safe_arctanh(np.prod(np.tanh(VmNn / 2), axis=2))*: Преобразование значений *VmNn* с использованием гиперболического тангенса, его произведения по оси и безопасного арктангенса, умноженного на 2."
   ]
  },
  {
   "cell_type": "markdown",
   "id": "24735df1-5904-4abb-878a-6031872fe230",
   "metadata": {},
   "source": [
    "- Аккумуляция и суммирование значений:"
   ]
  },
  {
   "cell_type": "markdown",
   "id": "450f8b5b-cc74-4606-9fd3-5910e797bb53",
   "metadata": {},
   "source": [
    "*V = np.sum(UmN, axis=0) + np.random.normal(mu, np.sqrt(2 * mu), N)*: Суммирование преобразованных значений по оси и добавление шума, сгенерированного из нормального распределения."
   ]
  },
  {
   "cell_type": "markdown",
   "id": "225380b5-ee56-46fa-989c-187233ac941d",
   "metadata": {},
   "source": [
    "- Обновление массивов для хранения результатов:"
   ]
  },
  {
   "cell_type": "markdown",
   "id": "a842057c-63b6-4919-8e49-9af7a129f107",
   "metadata": {},
   "source": [
    "Перемещение старых данных в *Varx* и *Uarx* для освобождения места под новые данные."
   ]
  },
  {
   "cell_type": "markdown",
   "id": "1529969c-fa3f-44c4-aa3f-056972eaa94e",
   "metadata": {},
   "source": [
    "- Генерация новых значений:"
   ]
  },
  {
   "cell_type": "markdown",
   "id": "efd8dfcb-4ffc-4437-9c92-f54a7c5f14be",
   "metadata": {},
   "source": [
    "*VmNn = randkde(V, (m, N, n))[0]*: Генерация нового набора данных на основе текущих значений *V* с использованием функции *KDE*."
   ]
  },
  {
   "cell_type": "markdown",
   "id": "b1eef4c9-d25f-4df7-8bc5-c73d5719b56e",
   "metadata": {},
   "source": [
    "- Проверка на сходимость:"
   ]
  },
  {
   "cell_type": "markdown",
   "id": "fb8a764e-2dcb-440c-9eb6-427db66642c9",
   "metadata": {},
   "source": [
    "*converged = np.sum(V < 0) <= 0*: Проверка условия сходимости, если количество отрицательных значений в *V* равно нулю или меньше."
   ]
  },
  {
   "cell_type": "code",
   "execution_count": null,
   "id": "10d0e1f7-9766-45a9-b6d7-2f28374b6d1b",
   "metadata": {},
   "outputs": [],
   "source": [
    "for i in range(converged + numLastPlots * int(not converged), numLastPlots + 1):\n",
    "    l = L + i - numLastPlots\n",
    "    if l < L and l in Lplot:\n",
    "        continue\n",
    "\n",
    "    valid_Uarx = Uarx[i - 1, np.isfinite(Uarx[i - 1, :])]\n",
    "    valid_Varx = Varx[i - 1, np.isfinite(Varx[i - 1, :])]"
   ]
  },
  {
   "cell_type": "markdown",
   "id": "54b3615b-ba38-4913-8a15-75c1df6c85f1",
   "metadata": {},
   "source": [
    "- Условие цикла:"
   ]
  },
  {
   "cell_type": "markdown",
   "id": "b1d7c62c-a0c2-4b48-b2fb-6149ad656db6",
   "metadata": {},
   "source": [
    "*range(converged + numLastPlots * int(not converged), numLastPlots + 1)*: Этот диапазон определяется условием сходимости. Если процесс сходится (*converged* равно *True*), то цикл будет короче. Это условие управляет тем, сколько последних графиков будет обновлено или сохранено."
   ]
  },
  {
   "cell_type": "markdown",
   "id": "eba59e9d-ab96-4ad8-85d3-2beb8d50ccff",
   "metadata": {},
   "source": [
    "- Вычисление индекса:"
   ]
  },
  {
   "cell_type": "markdown",
   "id": "cbe8e230-2f1f-4c2b-b204-11b802a44319",
   "metadata": {},
   "source": [
    "*l = L + i - numLastPlots*: Рассчитывает актуальный шаг внутри цикла, что используется для меток и файлов вывода."
   ]
  },
  {
   "cell_type": "markdown",
   "id": "398923b7-6416-41a3-8d54-7ed3c00b9c95",
   "metadata": {},
   "source": [
    "- Пропуск ненужных итераций:"
   ]
  },
  {
   "cell_type": "markdown",
   "id": "685dfca2-6397-4b34-ab9a-50abce59178f",
   "metadata": {},
   "source": [
    "*if l < L and l in Lplot*: Пропускает итерации, которые не предназначены для вывода на график."
   ]
  },
  {
   "cell_type": "markdown",
   "id": "e6840302-11f1-419f-a990-85fedad60872",
   "metadata": {},
   "source": [
    "- Фильтрация данных:\n"
   ]
  },
  {
   "cell_type": "markdown",
   "id": "3231de68-f177-4e20-b815-e5f99f3709da",
   "metadata": {},
   "source": [
    "*valid_Uarx и valid_Varx*: Выборка только тех значений, которые являются конечными (не *NaN* и не бесконечности), гарантируя, что гистограммы будут корректно построены."
   ]
  },
  {
   "cell_type": "markdown",
   "id": "eef1e74b-06d6-41e2-b0dc-3aee35e549c0",
   "metadata": {},
   "source": [
    "- Визуализация:"
   ]
  },
  {
   "cell_type": "code",
   "execution_count": null,
   "id": "25c4481a-3c25-46c6-ba47-5208b6cb88af",
   "metadata": {},
   "outputs": [],
   "source": [
    "ax1.hist(valid_Uarx, bins=50, density=True, histtype='step', linewidth=1, label=f'L={l}')\n",
    "    ax1.grid(True)\n",
    "    ax1.set_ylim([0, np.max(np.histogram(valid_Uarx, bins=50, density=True)[0]) * 3])\n",
    "    x = (np.histogram(valid_Uarx, bins=50)[1][1:] + np.histogram(valid_Uarx, bins=50)[1][:-1]) / 2\n",
    "\n",
    "    CNfile.write('\\n'.join([f'{l}; {xi:.3f}; {vi}' for xi, vi in zip(x, np.histogram(valid_Uarx, bins=50, density=True)[0])]) + '\\n')\n",
    "\n",
    "    ax2.hist(valid_Varx, bins=50, density=True, histtype='step', linewidth=1, label=f'L={l}')\n",
    "    ax2.grid(True)\n",
    "    x = (np.histogram(valid_Varx, bins=50)[1][1:] + np.histogram(valid_Varx, bins=50)[1][:-1]) / 2\n",
    "\n",
    "    VNfile.write('\\n'.join([f'{l}; {xi:.3f}; {vi}' for xi, vi in zip(x, np.histogram(valid_Varx, bins=50, density=True)[0])]) + '\\n')\n",
    "if l in Lplot or l == Lmax or converged:\n",
    "    xmin = np.min(np.histogram(valid_Varx, bins=50)[1])\n",
    "    xmax = np.max(np.histogram(valid_Varx, bins=50)[1])\n",
    "    x = np.linspace(xmin, xmax, 1000)\n",
    "    absx = np.abs(x)\n",
    "    valid_Varx = valid_Varx[np.isfinite(valid_Varx)]\n",
    "    if len(valid_Varx) == 0:\n",
    "        continuef converged:\r\n",
    "    break\r\n"
   ]
  },
  {
   "cell_type": "markdown",
   "id": "8e5d32d4-55c5-415d-98e5-69f053015a08",
   "metadata": {},
   "source": [
    "- Расчёт статистических моментов:"
   ]
  },
  {
   "cell_type": "code",
   "execution_count": null,
   "id": "53efa1ea-0b9a-4bcb-a8ce-f42804c75503",
   "metadata": {},
   "outputs": [],
   "source": [
    "b2 = np.sum(valid_Varx ** 2) / len(valid_Varx)\n",
    "    b4 = np.sum(valid_Varx ** 4) / len(valid_Varx)\n",
    "    b2 = clamp_values(b2, -1e10, 1e10)\n",
    "    b4 = clamp_values(b4, -1e10, 1e10)\n",
    "    a2 = np.sqrt((3 * b2 ** 2 - b4) / 2 + 1e-10)\n",
    "    a = np.sqrt(a2)\n",
    "    b = np.sqrt(b2 - a2 + 1e-10)"
   ]
  },
  {
   "cell_type": "markdown",
   "id": "9a86cc91-ee34-4e4f-8325-7e9f2a29e644",
   "metadata": {},
   "source": [
    "Вычисление второго (*b2*) и четвёртого (*b4*) моментов распределения.\n",
    "Применение ограничений к значениям *b2* и *b4* для избежания числовых ошибок.  \n",
    "Вычисление *a* и *b* для параметризации нормального распределения."
   ]
  },
  {
   "cell_type": "markdown",
   "id": "b8160788-86e2-4d55-a7f2-d8227d9a272c",
   "metadata": {},
   "source": [
    "- Построение и отображение графика:"
   ]
  },
  {
   "cell_type": "code",
   "execution_count": null,
   "id": "b6ae4f01-a19d-44c6-a5e0-be54ef3e26b7",
   "metadata": {},
   "outputs": [],
   "source": [
    "absVNpdf = norm.pdf(absx, a, b) + norm.pdf(absx, -a, b)\n",
    "    str_label = f'L={l}, a={a:.3f}, b={b:.3f}, \\\\neq{np.sqrt(2 * a):.3f}'\n",
    "    ax2.plot(x, absVNpdf / (1 + np.exp(-x)), label=str_label)\n",
    "    plt.show()\n",
    "else:\n",
    "    ax1.cla()\n",
    "    ax2.cla()\n",
    "\n",
    "if converged:\n",
    "    break"
   ]
  },
  {
   "cell_type": "code",
   "execution_count": null,
   "id": "7fa7c742-1ede-4e10-b02b-c3c1bce9d1b9",
   "metadata": {},
   "outputs": [],
   "source": [
    "tend = datetime.now()\n",
    "print(\"Duration:\", tend - tstart)\n",
    "\n",
    "CNfile.close()\n",
    "VNfile.close()\n",
    "\n",
    "ax1.set_title(f'CN hist, d_c={dc}, d_v={dv}, σ={sigma}')\n",
    "ax1.legend()\n",
    "\n",
    "ax2.set_title(f'VN hist, d_c={dc}, d_v={dv}, σ={sigma}')\n",
    "ax2.legend()\n",
    "\n",
    "fig.savefig(f'{fname_pref}_L={L}.pdf')\n"
   ]
  },
  {
   "cell_type": "markdown",
   "id": "b4bc6e56-7a45-4c48-bf3e-ae95d3a4d555",
   "metadata": {},
   "source": [
    "*tend = datetime.now()*: Фиксация времени окончания выполнения."
   ]
  },
  {
   "cell_type": "markdown",
   "id": "c6759fd9-711b-4df4-a2c5-ce253029725f",
   "metadata": {},
   "source": [
    "- Полный код:"
   ]
  },
  {
   "cell_type": "code",
   "execution_count": null,
   "id": "a2f7d9e5-4f5c-4561-b98f-4ba952037a81",
   "metadata": {},
   "outputs": [],
   "source": [
    "import numpy as np\n",
    "import matplotlib.pyplot as plt\n",
    "from datetime import datetime\n",
    "from scipy.stats import norm\n",
    "from sklearn.neighbors import KernelDensity\n",
    "from scipy.interpolate import interp1d\n",
    "\n",
    "\n",
    "def kde(data, probability_fcn=\"cdf\", bandwidth=None):\n",
    "    if bandwidth is None:\n",
    "        bandwidth = 1.0\n",
    "    kde = KernelDensity(kernel='gaussian', bandwidth=bandwidth).fit(data[:, None])\n",
    "    x = np.linspace(min(data), max(data), 1000)\n",
    "    log_dens = kde.score_samples(x[:, None])\n",
    "    density = np.exp(log_dens)\n",
    "    if probability_fcn == \"cdf\":\n",
    "        cdf = np.cumsum(density)\n",
    "        cdf /= cdf[-1]\n",
    "        return cdf, x, bandwidth\n",
    "    else:\n",
    "        return density, x, bandwidth\n",
    "\n",
    "\n",
    "def randkde(data, dim):\n",
    "    data = np.nan_to_num(data, nan=0.0, posinf=np.finfo(np.float64).max, neginf=np.finfo(np.float64).min)\n",
    "    F, x, bw = kde(data, probability_fcn=\"cdf\")\n",
    "    F[0] = 0\n",
    "    F[-1] = 1\n",
    "    inv_cdf = interp1d(F, x, kind='linear', fill_value=\"extrapolate\")\n",
    "    total_elements = np.prod(dim)\n",
    "    uniform_random_samples = np.random.rand(total_elements)\n",
    "    y = inv_cdf(uniform_random_samples).reshape(dim)\n",
    "    return y, F, x, bw\n",
    "\n",
    "\n",
    "def filter_infinite_values(data):\n",
    "    return np.nan_to_num(data, nan=0.0, posinf=np.finfo(np.float64).max, neginf=-np.finfo(np.float64).max)\n",
    "\n",
    "\n",
    "def clamp_values(data, min_value, max_value):\n",
    "    return np.clip(data, min_value, max_value)\n",
    "\n",
    "\n",
    "def safe_arctanh(x):\n",
    "    epsilon = 1e-10\n",
    "    x = np.clip(x, -1 + epsilon, 1 - epsilon)\n",
    "    return np.arctanh(x)\n",
    "\n",
    "\n",
    "dv = 3\n",
    "dc = 6\n",
    "sigma = 0.75\n",
    "\n",
    "N = int(1e6)\n",
    "mu = 2 / sigma ** 2\n",
    "n = dc - 1\n",
    "m = dv - 1\n",
    "\n",
    "fname_pref = f'dv={dv}dc={dc}s={sigma}'\n",
    "CNfile_path = f'{fname_pref}CNhist.csv'\n",
    "VNfile_path = f'{fname_pref}VNhist.csv'\n",
    "CNfile = open(CNfile_path, 'w')\n",
    "VNfile = open(VNfile_path, 'w')\n",
    "fig, (ax1, ax2) = plt.subplots(2, 1, figsize=(10, 12))\n",
    "\n",
    "Lmax = 30\n",
    "Lplot = np.arange(1, Lmax + 1)\n",
    "numLastPlots = 1\n",
    "\n",
    "VmNn = np.random.normal(mu, np.sqrt(2 * mu), (m, N, n))\n",
    "VmNn = filter_infinite_values(VmNn)\n",
    "VmNn = clamp_values(VmNn, -1000, 1000)\n",
    "Uarx = np.zeros((numLastPlots, N))\n",
    "Varx = np.zeros((numLastPlots, N))\n",
    "for i in range(numLastPlots):\n",
    "    Varx[i, :] = VmNn[0, :, 0]\n",
    "\n",
    "tstart = datetime.now()\n",
    "tcurr = datetime.now()\n",
    "\n",
    "for L in range(1, Lmax + 1):\n",
    "    if L % 10 == 0:\n",
    "        print(L, datetime.now() - tcurr, datetime.now() - tstart)\n",
    "        tcurr = datetime.now()\n",
    "\n",
    "    UmN = 2 * safe_arctanh(np.prod(np.tanh(VmNn / 2), axis=2))\n",
    "    UmN = filter_infinite_values(UmN)\n",
    "    UmN = clamp_values(UmN, -1000, 1000)\n",
    "    UmNV = np.minimum(UmN, 1000)\n",
    "    V = np.sum(UmN, axis=0) + np.random.normal(mu, np.sqrt(2 * mu), N)\n",
    "    V = filter_infinite_values(V)\n",
    "    V = clamp_values(V, -1000, 1000)\n",
    "\n",
    "    for i in range(numLastPlots - 1):\n",
    "        Varx[i, :] = Varx[i + 1, :]\n",
    "        Uarx[i, :] = Uarx[i + 1, :]\n",
    "    Varx[numLastPlots - 1, :] = V\n",
    "    Uarx[numLastPlots - 1, :] = UmN[0, :]\n",
    "\n",
    "    VmNn = randkde(V, (m, N, n))[0]\n",
    "    VmNn = filter_infinite_values(VmNn)\n",
    "    VmNn = clamp_values(VmNn, -1000, 1000)\n",
    "\n",
    "    converged = np.sum(V < 0) <= 0\n",
    "    for i in range(converged + numLastPlots * int(not converged), numLastPlots + 1):\n",
    "        l = L + i - numLastPlots\n",
    "        if l < L and l in Lplot:\n",
    "            continue\n",
    "\n",
    "        valid_Uarx = Uarx[i - 1, np.isfinite(Uarx[i - 1, :])]\n",
    "        valid_Varx = Varx[i - 1, np.isfinite(Varx[i - 1, :])]\n",
    "\n",
    "        ax1.hist(valid_Uarx, bins=50, density=True, histtype='step', linewidth=1, label=f'L={l}')\n",
    "        ax1.grid(True)\n",
    "        ax1.set_ylim([0, np.max(np.histogram(valid_Uarx, bins=50, density=True)[0]) * 3])\n",
    "        x = (np.histogram(valid_Uarx, bins=50)[1][1:] + np.histogram(valid_Uarx, bins=50)[1][:-1]) / 2\n",
    "\n",
    "        CNfile.write('\\n'.join(\n",
    "            [f'{l}; {xi:.3f}; {vi}' for xi, vi in zip(x, np.histogram(valid_Uarx, bins=50, density=True)[0])]) + '\\n')\n",
    "\n",
    "        ax2.hist(valid_Varx, bins=50, density=True, histtype='step', linewidth=1, label=f'L={l}')\n",
    "        ax2.grid(True)\n",
    "        x = (np.histogram(valid_Varx, bins=50)[1][1:] + np.histogram(valid_Varx, bins=50)[1][:-1]) / 2\n",
    "\n",
    "        VNfile.write('\\n'.join(\n",
    "            [f'{l}; {xi:.3f}; {vi}' for xi, vi in zip(x, np.histogram(valid_Varx, bins=50, density=True)[0])]) + '\\n')\n",
    "\n",
    "        if l in Lplot or l == Lmax or converged:\n",
    "            xmin = np.min(np.histogram(valid_Varx, bins=50)[1])\n",
    "            xmax = np.max(np.histogram(valid_Varx, bins=50)[1])\n",
    "            x = np.linspace(xmin, xmax, 1000)\n",
    "            absx = np.abs(x)\n",
    "            valid_Varx = valid_Varx[np.isfinite(valid_Varx)]\n",
    "            if len(valid_Varx) == 0:\n",
    "                continue\n",
    "            b2 = np.sum(valid_Varx ** 2) / len(valid_Varx)\n",
    "            b4 = np.sum(valid_Varx ** 4) / len(valid_Varx)\n",
    "            b2 = clamp_values(b2, -1e10, 1e10)\n",
    "            b4 = clamp_values(b4, -1e10, 1e10)\n",
    "            a2 = np.sqrt((3 * b2 ** 2 - b4) / 2 + 1e-10)\n",
    "            a = np.sqrt(a2)\n",
    "            b = np.sqrt(b2 - a2 + 1e-10)\n",
    "            absVNpdf = norm.pdf(absx, a, b) + norm.pdf(absx, -a, b)\n",
    "            str_label = f'L={l}, a={a:.3f}, b={b:.3f}, \\\\neq{np.sqrt(2 * a):.3f}'\n",
    "            ax2.plot(x, absVNpdf / (1 + np.exp(-x)), label=str_label)\n",
    "            plt.show()\n",
    "        else:\n",
    "            ax1.cla()\n",
    "            ax2.cla()\n",
    "\n",
    "    if converged:\n",
    "        break\n",
    "\n",
    "tend = datetime.now()\n",
    "print(\"Duration:\", tend - tstart)\n",
    "\n",
    "CNfile.close()\n",
    "VNfile.close()\n",
    "\n",
    "ax1.set_title(f'CN hist, d_c={dc}, d_v={dv}, σ={sigma}')\n",
    "ax1.legend()\n",
    "\n",
    "ax2.set_title(f'VN hist, d_c={dc}, d_v={dv}, σ={sigma}')\n",
    "ax2.legend()\n",
    "\n",
    "fig.savefig(f'{fname_pref}_L={L}.pdf')\n"
   ]
  },
  {
   "cell_type": "markdown",
   "id": "63886b1f-b7e7-4e20-89e0-0de05764a4aa",
   "metadata": {},
   "source": [
    "- Проблемы и решения: "
   ]
  },
  {
   "cell_type": "markdown",
   "id": "c94ccf4e-6794-4223-bbcf-10d7188d7b3e",
   "metadata": {},
   "source": [
    "*Проблемы с переполнением*: Использование ограничений значений и безопасных математических операций.  \n",
    "*Ошибки деления на ноль*: Введение малых смещений в данные перед выполнением функций, которые не могут обрабатывать крайние значения."
   ]
  },
  {
   "cell_type": "code",
   "execution_count": null,
   "id": "d98a416b-4198-4cf0-9e98-7902ad123a94",
   "metadata": {},
   "outputs": [],
   "source": []
  }
 ],
 "metadata": {
  "kernelspec": {
   "display_name": "Python 3 (ipykernel)",
   "language": "python",
   "name": "python3"
  },
  "language_info": {
   "codemirror_mode": {
    "name": "ipython",
    "version": 3
   },
   "file_extension": ".py",
   "mimetype": "text/x-python",
   "name": "python",
   "nbconvert_exporter": "python",
   "pygments_lexer": "ipython3",
   "version": "3.11.7"
  }
 },
 "nbformat": 4,
 "nbformat_minor": 5
}
